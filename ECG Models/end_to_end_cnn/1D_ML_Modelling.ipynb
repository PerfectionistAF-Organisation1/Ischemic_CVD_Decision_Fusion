{
 "cells": [
  {
   "cell_type": "markdown",
   "id": "3461278d",
   "metadata": {},
   "source": [
    "#### python modules in architecture: SVMmodel17.py _________________________________________________________________________________________\n",
    "#### python modules in architecture: GBDTmodel17.py _________________________________________________________________________________________\n",
    "#### python modules in architecture: RFmodel17.py _________________________________________________________________________________________\n",
    "#### python modules in architecture: kNNmodel17.py _________________________________________________________________________________________\n",
    "#### python modules in architecture: CNN1Dmodel17.py _________________________________________________________________________________________"
   ]
  },
  {
   "cell_type": "code",
   "execution_count": null,
   "id": "06dac569",
   "metadata": {},
   "outputs": [],
   "source": []
  }
 ],
 "metadata": {
  "kernelspec": {
   "display_name": "Python 3 (ipykernel)",
   "language": "python",
   "name": "python3"
  },
  "language_info": {
   "codemirror_mode": {
    "name": "ipython",
    "version": 3
   },
   "file_extension": ".py",
   "mimetype": "text/x-python",
   "name": "python",
   "nbconvert_exporter": "python",
   "pygments_lexer": "ipython3",
   "version": "3.9.16"
  }
 },
 "nbformat": 4,
 "nbformat_minor": 5
}
